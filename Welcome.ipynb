{
 "cells": [
  {
   "cell_type": "markdown",
   "metadata": {},
   "source": [
    "___\n",
    "\n",
    "<a href='https://sites.google.com/view/geo-michele/home'> <img src=\"https://lh4.googleusercontent.com/MsGSVMOc7fO75M654EU7qUz1XgAV4Gbss9Iu2U9-XsC7md_0hEZW4lMKSsjpdO7KSbaOsi1HhwLgY7545P8Yj-GFDzeCpxmslBAd1nIv4_msJuKORw=w1280\" class=\"CENy8b\" role=\"img\" style=\"width: 20%; margin: -0.0000006555% 0 -0.0000006555% 0%\"/></a>\n",
    "\n",
    "\n",
    "\n",
    "___\n",
    "# Hello and Welcome to my repository of Projects\n",
    "\n",
    "This is the repository for all the Proejcts files done during the various Classes I enrolled in.\n",
    "\n",
    "Here a list of the ones present so far, click for the link to the course:\n",
    "\n",
    "[**Python for Data Science and Machine Learning Bootcamp, by Pieran Data**](https://www.udemy.com/course/python-for-data-science-and-machine-learning-bootcamp/)\n",
    "\n",
    "For More info on my work and few extra plots I was unable to load in each Notebook visit my personal website (click my picture up here)."
   ]
  }
 ],
 "metadata": {
  "kernelspec": {
   "display_name": "Python 3",
   "language": "python",
   "name": "python3"
  },
  "language_info": {
   "codemirror_mode": {
    "name": "ipython",
    "version": 3
   },
   "file_extension": ".py",
   "mimetype": "text/x-python",
   "name": "python",
   "nbconvert_exporter": "python",
   "pygments_lexer": "ipython3",
   "version": "3.7.6"
  }
 },
 "nbformat": 4,
 "nbformat_minor": 1
}
